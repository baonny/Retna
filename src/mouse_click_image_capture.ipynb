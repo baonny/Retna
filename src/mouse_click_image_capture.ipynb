{
 "cells": [
  {
   "cell_type": "code",
   "execution_count": 6,
   "id": "b6903eca",
   "metadata": {},
   "outputs": [
    {
     "name": "stdout",
     "output_type": "stream",
     "text": [
      "Collecting opencv-python\n",
      "  Downloading opencv_python-4.5.4.58-cp38-cp38-win_amd64.whl (35.1 MB)\n",
      "Requirement already satisfied: numpy>=1.17.3 in d:\\anaconda3\\lib\\site-packages (from opencv-python) (1.20.1)\n",
      "Installing collected packages: opencv-python\n",
      "Successfully installed opencv-python-4.5.4.58\n"
     ]
    }
   ],
   "source": [
    "import sys\n",
    "!{sys.executable} -m pip install opencv-python\n",
    "!{sys.executable} -m pip install pynput"
   ]
  },
  {
   "cell_type": "code",
   "execution_count": 1,
   "id": "12708289",
   "metadata": {},
   "outputs": [],
   "source": [
    "from pynput.mouse import Listener\n",
    "import cv2\n",
    "import os\n",
    "import shutil"
   ]
  },
  {
   "cell_type": "code",
   "execution_count": 2,
   "id": "db2cb1a4",
   "metadata": {},
   "outputs": [],
   "source": [
    "# define a video capture object\n",
    "vid = cv2.VideoCapture(0)"
   ]
  },
  {
   "cell_type": "code",
   "execution_count": 4,
   "id": "42088243",
   "metadata": {},
   "outputs": [
    {
     "name": "stdout",
     "output_type": "stream",
     "text": [
      "Directory to store images:\n",
      "D:\\RetNaPictures\n",
      "Input: D:\\RetNaPictures\\\n",
      "Would you like to overwrite directory?[y/n]y\n",
      "Directory overwritten.\n"
     ]
    }
   ],
   "source": [
    "# Request input for where images will be stored\n",
    "root = input(\"Directory to store images:\\n\") + '\\\\'\n",
    "print(\"Input: \" + root)\n",
    "# Check if input is a directory that already exists\n",
    "if os.path.isdir(root):\n",
    "    response = \"\"\n",
    "    # While response is not y or n, keep requesting for input\n",
    "    while not (response in [\"y\", \"n\"]):\n",
    "        response = input(\"Would you like to overwrite directory?[y/n]\")\n",
    "        if (response == \"y\"):\n",
    "            shutil.rmtree(root)\n",
    "            print(\"Directory overwritten.\")\n",
    "        else:\n",
    "            exit()\n",
    "os.mkdir(root)"
   ]
  },
  {
   "cell_type": "code",
   "execution_count": 5,
   "id": "7bb9bbe5",
   "metadata": {},
   "outputs": [],
   "source": [
    "def snap_picture():\n",
    "     # .read returns a tuple (whether read was successful, image)\n",
    "    _, frame = vid.read()\n",
    "    return frame\n",
    "        "
   ]
  },
  {
   "cell_type": "code",
   "execution_count": null,
   "id": "234664d1",
   "metadata": {},
   "outputs": [
    {
     "name": "stdout",
     "output_type": "stream",
     "text": [
      "1224 1527\n",
      "D:\\RetNaPictures\\1224-1527.jpeg\n",
      "878 400\n",
      "D:\\RetNaPictures\\878-400.jpeg\n"
     ]
    }
   ],
   "source": [
    "def on_click(x, y, button, pressed):\n",
    "    \"\"\"\n",
    "    Args:\n",
    "    x: the x-coordinate of the mouse\n",
    "    y: the y-coordinate of the mouse\n",
    "    button: 1 or 0, depending on right-click or left-click\n",
    "    pressed: 1 or 0, whether the mouse was pressed or released\n",
    "    \"\"\"\n",
    "    if pressed:\n",
    "        print (x, y)\n",
    "        eye = snap_picture()\n",
    "        \n",
    "        # If eye successfully took picture, save it\n",
    "        if not (eye is None):\n",
    "            filename = root + \"{}-{}.jpeg\".format(x,y)\n",
    "            print(filename)\n",
    "            cv2.imwrite(filename, eye)\n",
    "        else:\n",
    "            print(\"Picture not taken.\")\n",
    "    \n",
    "    \n",
    "    \n",
    "with Listener(on_click = on_click) as listener:\n",
    "  listener.join()\n"
   ]
  }
 ],
 "metadata": {
  "kernelspec": {
   "display_name": "Python 3",
   "language": "python",
   "name": "python3"
  },
  "language_info": {
   "codemirror_mode": {
    "name": "ipython",
    "version": 3
   },
   "file_extension": ".py",
   "mimetype": "text/x-python",
   "name": "python",
   "nbconvert_exporter": "python",
   "pygments_lexer": "ipython3",
   "version": "3.8.8"
  }
 },
 "nbformat": 4,
 "nbformat_minor": 5
}
