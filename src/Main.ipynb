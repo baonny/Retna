{
 "cells": [
  {
   "cell_type": "markdown",
   "id": "57b5c0ed",
   "metadata": {},
   "source": [
    "Put your screens width and height:"
   ]
  },
  {
   "cell_type": "code",
   "execution_count": null,
   "id": "90e93d5c",
   "metadata": {},
   "outputs": [],
   "source": [
    "width, height = 2559, 1599"
   ]
  },
  {
   "cell_type": "markdown",
   "id": "f10e1afe",
   "metadata": {},
   "source": [
    "import dependencies, initialize cascade and video capture"
   ]
  },
  {
   "cell_type": "code",
   "execution_count": null,
   "id": "ad0c3c03",
   "metadata": {},
   "outputs": [],
   "source": [
    "import numpy as np\n",
    "import os\n",
    "import cv2\n",
    "import pyautogui\n",
    "from tensorflow.keras.models import *\n",
    "from tensorflow.keras.layers import *\n",
    "from tensorflow.keras.optimizers import *\n",
    "\n",
    "cascade = cv2.CascadeClassifier(\"haarcascade_eye.xml\")\n",
    "video_capture = cv2.VideoCapture(0)"
   ]
  },
  {
   "cell_type": "markdown",
   "id": "527ffbc2",
   "metadata": {},
   "source": [
    "define normalize function"
   ]
  },
  {
   "cell_type": "code",
   "execution_count": null,
   "id": "d3a7d70c",
   "metadata": {},
   "outputs": [],
   "source": [
    "def normalize(x):\n",
    "    minn, maxx = x.min(), x.max()\n",
    "    return (x - minn) / (maxx - minn)"
   ]
  },
  {
   "cell_type": "markdown",
   "id": "e7dc166f",
   "metadata": {},
   "source": [
    "define scan function"
   ]
  },
  {
   "cell_type": "code",
   "execution_count": null,
   "id": "d27e6020",
   "metadata": {},
   "outputs": [],
   "source": [
    "def scan(image_size=(117, 62)):\n",
    "    _, frame = video_capture.read()\n",
    "    gray = cv2.cvtColor(frame, cv2.COLOR_BGR2GRAY)\n",
    "    boxes = cascade.detectMultiScale(gray, 1.3, 10)\n",
    "    if len(boxes) == 2:\n",
    "        eyes = []\n",
    "        for box in boxes:\n",
    "            x, y, w, h = box\n",
    "            eye = frame[y:y + h, x:x + w]\n",
    "            eye = cv2.resize(eye, image_size)\n",
    "            eye = normalize(eye)\n",
    "            eye = eye[10:-10, 5:-5]\n",
    "            eyes.append(eye)\n",
    "        return (np.hstack(eyes) * 255).astype(np.uint8)\n",
    "    else:\n",
    "        return None"
   ]
  },
  {
   "cell_type": "markdown",
   "id": "cab338f0",
   "metadata": {},
   "source": [
    "import image data into set X and coordinate data in set Y"
   ]
  },
  {
   "cell_type": "code",
   "execution_count": null,
   "id": "5fb9a956",
   "metadata": {},
   "outputs": [],
   "source": [
    "root = './data/'\n",
    "filepaths = os.listdir(root)\n",
    "X, Y = [], []\n",
    "for filepath in filepaths:\n",
    "    print('loading ' + filepath + ' ...')\n",
    "    filename = filepath[0:filepath.rfind(\".\")]\n",
    "    x, y = filename.split('-')\n",
    "    x = float(x) / width\n",
    "    y = float(y) / height\n",
    "    z = cv2.imread(root + filepath)\n",
    "    X.append(z)\n",
    "    Y.append([x, y])\n",
    "X = np.array(X) / 255.0\n",
    "Y = np.array(Y)"
   ]
  },
  {
   "cell_type": "markdown",
   "id": "6a8cacc5",
   "metadata": {},
   "source": [
    "Build Model"
   ]
  },
  {
   "cell_type": "code",
   "execution_count": null,
   "id": "577fffbb",
   "metadata": {},
   "outputs": [],
   "source": [
    "model = Sequential()\n",
    "model.add(Conv2D(32, 3, 2, activation = 'relu', input_shape = (62, 117, 3)))\n",
    "model.add(Conv2D(64, 2, 2, activation = 'relu'))\n",
    "model.add(Flatten())\n",
    "model.add(Dense(32, activation = 'relu'))\n",
    "model.add(Dense(2, activation = 'sigmoid'))\n",
    "model.compile(optimizer = \"adam\", loss = \"mean_squared_error\")\n",
    "model.summary()\n",
    "\n",
    "epochs = 200\n",
    "for epoch in range(epochs):\n",
    "    model.fit(X, Y, batch_size = 32)\n",
    "\n",
    "print(\"done\")"
   ]
  },
  {
   "cell_type": "markdown",
   "id": "78cb5dbd",
   "metadata": {},
   "source": [
    "Scan for eyes and move cursor"
   ]
  },
  {
   "cell_type": "code",
   "execution_count": null,
   "id": "ecc067c2",
   "metadata": {},
   "outputs": [],
   "source": [
    "print(\"scanning starting\")\n",
    "\n",
    "while True:\n",
    "    eyes = scan()\n",
    "    print(\"scanned\")\n",
    "    if not eyes is None:\n",
    "        print(\"found eyes\")\n",
    "        eyes = np.expand_dims(eyes / 255.0, axis = 0)\n",
    "        x, y = model.predict(eyes)[0]\n",
    "        pyautogui.moveTo(x * width, y * height)"
   ]
  }
 ],
 "metadata": {
  "kernelspec": {
   "display_name": "Python 3 (ipykernel)",
   "language": "python",
   "name": "python3"
  },
  "language_info": {
   "codemirror_mode": {
    "name": "ipython",
    "version": 3
   },
   "file_extension": ".py",
   "mimetype": "text/x-python",
   "name": "python",
   "nbconvert_exporter": "python",
   "pygments_lexer": "ipython3",
   "version": "3.8.9"
  }
 },
 "nbformat": 4,
 "nbformat_minor": 5
}
